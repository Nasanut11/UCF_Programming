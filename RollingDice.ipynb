{
  "nbformat": 4,
  "nbformat_minor": 0,
  "metadata": {
    "kernelspec": {
      "display_name": "Python [default]",
      "language": "python",
      "name": "python3"
    },
    "language_info": {
      "codemirror_mode": {
        "name": "ipython",
        "version": 3
      },
      "file_extension": ".py",
      "mimetype": "text/x-python",
      "name": "python",
      "nbconvert_exporter": "python",
      "pygments_lexer": "ipython3",
      "version": "3.5.3"
    },
    "colab": {
      "name": "RollingDice.ipynb",
      "provenance": []
    }
  },
  "cells": [
    {
      "cell_type": "markdown",
      "metadata": {
        "deletable": true,
        "editable": true,
        "id": "vYNHUGk_GV3h"
      },
      "source": [
        "# Tables illustration of working with computational models of probability\n",
        "\n",
        "## David Culler\n",
        "\n",
        "This notebook seeks to illustrate simple datascience.Table operations as part of a basic lesson on probability.\n",
        "\n",
        "Documentation on the datascience module is at [http://data8.org/datascience/index.html](http://data8.org/datascience/index.html) and of Tables as [http://data8.org/datascience/tables.html](http://data8.org/datascience/tables.html)."
      ]
    },
    {
      "cell_type": "code",
      "metadata": {
        "deletable": true,
        "editable": true,
        "id": "UAkmlLlEGV3i",
        "outputId": "684bafe6-a916-40e0-f6a8-50ebdccf81f7",
        "colab": {
          "base_uri": "https://localhost:8080/",
          "height": 123
        }
      },
      "source": [
        "# HIDDEN - generic nonsense for setting up environment\n",
        "from datascience import *\n",
        "%matplotlib inline\n",
        "import numpy as np\n",
        "import matplotlib.pyplot as plots\n",
        "plots.style.use('fivethirtyeight')\n",
        "from ipywidgets import interact\n",
        "# datascience version number of last run of this notebook\n",
        "version.__version__"
      ],
      "execution_count": 1,
      "outputs": [
        {
          "output_type": "stream",
          "text": [
            "/usr/local/lib/python3.6/dist-packages/datascience/tables.py:17: MatplotlibDeprecationWarning: The 'warn' parameter of use() is deprecated since Matplotlib 3.1 and will be removed in 3.3.  If any parameter follows 'warn', they should be pass as keyword, not positionally.\n",
            "  matplotlib.use('agg', warn=False)\n",
            "/usr/local/lib/python3.6/dist-packages/datascience/util.py:10: MatplotlibDeprecationWarning: The 'warn' parameter of use() is deprecated since Matplotlib 3.1 and will be removed in 3.3.  If any parameter follows 'warn', they should be pass as keyword, not positionally.\n",
            "  matplotlib.use('agg', warn=False)\n"
          ],
          "name": "stderr"
        },
        {
          "output_type": "execute_result",
          "data": {
            "application/vnd.google.colaboratory.intrinsic+json": {
              "type": "string"
            },
            "text/plain": [
              "'0.10.6'"
            ]
          },
          "metadata": {
            "tags": []
          },
          "execution_count": 1
        }
      ]
    },
    {
      "cell_type": "markdown",
      "metadata": {
        "deletable": true,
        "editable": true,
        "id": "aumqwKo-GV3j"
      },
      "source": [
        "## Create a table as a model of a stochastic phenomenom\n",
        "\n",
        "Here we create a single column table as a computational model of a die\n",
        "with each element of the table containing the number of dots on the side.\n",
        "This illustrates the simplest way of constructing a table, [`Table.with_column`](http://data8.org/datascience/_autosummary/datascience.tables.Table.with_column.html#datascience.tables.Table.with_column).\n",
        "\n",
        "Then we define a function that models rolling a die.  This illustrates the\n",
        "use of [`Table.sample`](http://data8.org/datascience/_autosummary/datascience.tables.Table.sample.html#datascience.tables.Table.sample)\n",
        "to take random sample of a table."
      ]
    },
    {
      "cell_type": "code",
      "metadata": {
        "deletable": true,
        "editable": true,
        "id": "8FFbH3bTGV3j",
        "outputId": "50e5fe17-dfd1-4dba-c8c3-b5de0a237687",
        "colab": {
          "base_uri": "https://localhost:8080/",
          "height": 235
        }
      },
      "source": [
        "die = Table().with_column('side', [1,2,3,4,5,6])\n",
        "die"
      ],
      "execution_count": 2,
      "outputs": [
        {
          "output_type": "execute_result",
          "data": {
            "text/html": [
              "<table border=\"1\" class=\"dataframe\">\n",
              "    <thead>\n",
              "        <tr>\n",
              "            <th>side</th>\n",
              "        </tr>\n",
              "    </thead>\n",
              "    <tbody>\n",
              "        <tr>\n",
              "            <td>1   </td>\n",
              "        </tr>\n",
              "        <tr>\n",
              "            <td>2   </td>\n",
              "        </tr>\n",
              "        <tr>\n",
              "            <td>3   </td>\n",
              "        </tr>\n",
              "        <tr>\n",
              "            <td>4   </td>\n",
              "        </tr>\n",
              "        <tr>\n",
              "            <td>5   </td>\n",
              "        </tr>\n",
              "        <tr>\n",
              "            <td>6   </td>\n",
              "        </tr>\n",
              "    </tbody>\n",
              "</table>"
            ],
            "text/plain": [
              "side\n",
              "1\n",
              "2\n",
              "3\n",
              "4\n",
              "5\n",
              "6"
            ]
          },
          "metadata": {
            "tags": []
          },
          "execution_count": 2
        }
      ]
    },
    {
      "cell_type": "code",
      "metadata": {
        "deletable": true,
        "editable": true,
        "id": "z3drmDV5GV3j"
      },
      "source": [
        "# Simulate the roll of a die by sampling from the die table\n",
        "def roll_die():\n",
        "    return die.sample(1)['side'][0]"
      ],
      "execution_count": 15,
      "outputs": []
    },
    {
      "cell_type": "code",
      "metadata": {
        "deletable": true,
        "editable": true,
        "id": "ui270dJTGV3k",
        "outputId": "113b4adb-45f5-47ed-80a7-e55db532747a",
        "colab": {
          "base_uri": "https://localhost:8080/"
        }
      },
      "source": [
        "# roll it.  Try this over and over and see what you get\n",
        "roll_die()"
      ],
      "execution_count": 14,
      "outputs": [
        {
          "output_type": "execute_result",
          "data": {
            "text/plain": [
              "5"
            ]
          },
          "metadata": {
            "tags": []
          },
          "execution_count": 14
        }
      ]
    },
    {
      "cell_type": "markdown",
      "metadata": {
        "deletable": true,
        "editable": true,
        "id": "1XoPj5sGGV3k"
      },
      "source": [
        "## Composition\n",
        "\n",
        "Build a computational model of rolling a die many times using our `roll_die` function as a building block.  It happens to utilize tables internally, but we have abstracted away from that.  Here it is a *black box* that yields a random roll of a die.  Again, we create a table to model the result."
      ]
    },
    {
      "cell_type": "code",
      "metadata": {
        "deletable": true,
        "editable": true,
        "id": "OFqgyJiGGV3l",
        "outputId": "4683a0b3-2842-4ea8-f95b-6dbd7f5ab263",
        "colab": {
          "base_uri": "https://localhost:8080/",
          "height": 388
        }
      },
      "source": [
        "# Simulate rolling it many times, creating a table that records the rolls\n",
        "num_rolls = 600\n",
        "rolls = Table().with_column('roll', [roll_die() for i in range(num_rolls)])\n",
        "rolls"
      ],
      "execution_count": 16,
      "outputs": [
        {
          "output_type": "execute_result",
          "data": {
            "text/html": [
              "<table border=\"1\" class=\"dataframe\">\n",
              "    <thead>\n",
              "        <tr>\n",
              "            <th>roll</th>\n",
              "        </tr>\n",
              "    </thead>\n",
              "    <tbody>\n",
              "        <tr>\n",
              "            <td>1   </td>\n",
              "        </tr>\n",
              "        <tr>\n",
              "            <td>4   </td>\n",
              "        </tr>\n",
              "        <tr>\n",
              "            <td>1   </td>\n",
              "        </tr>\n",
              "        <tr>\n",
              "            <td>5   </td>\n",
              "        </tr>\n",
              "        <tr>\n",
              "            <td>4   </td>\n",
              "        </tr>\n",
              "        <tr>\n",
              "            <td>2   </td>\n",
              "        </tr>\n",
              "        <tr>\n",
              "            <td>2   </td>\n",
              "        </tr>\n",
              "        <tr>\n",
              "            <td>6   </td>\n",
              "        </tr>\n",
              "        <tr>\n",
              "            <td>4   </td>\n",
              "        </tr>\n",
              "        <tr>\n",
              "            <td>5   </td>\n",
              "        </tr>\n",
              "    </tbody>\n",
              "</table>\n",
              "<p>... (590 rows omitted)</p>"
            ],
            "text/plain": [
              "roll\n",
              "1\n",
              "4\n",
              "1\n",
              "5\n",
              "4\n",
              "2\n",
              "2\n",
              "6\n",
              "4\n",
              "5\n",
              "... (590 rows omitted)"
            ]
          },
          "metadata": {
            "tags": []
          },
          "execution_count": 16
        }
      ]
    },
    {
      "cell_type": "markdown",
      "metadata": {
        "deletable": true,
        "editable": true,
        "id": "ZlcziGlaGV3l"
      },
      "source": [
        "## Visualization\n",
        "\n",
        "Above we see just the tip of the table.  And, of course, it would be tedious to look at all those rolls.  Instead, we want to look at some *descriptive statistics* of the process.  We can do that with [`Table.hist`](http://data8.org/datascience/_autosummary/datascience.tables.Table.hist.html#datascience.tables.Table.hist), which\n",
        "can be used to produce a histogram or a discrete distribution (the default, i.e., `normed = True`).\n",
        "\n",
        "The histogram of the rolls shows what we mean by 'uniform at random'.  All sides are equally likely to come up on each roll.  Thus the number of times each comes up in a large number of rolls is nearly constant.  But not quite.\n",
        "The rolls table it self won't change on its own, but every time you run the cell above, you will get a slightly different picture."
      ]
    },
    {
      "cell_type": "code",
      "metadata": {
        "deletable": true,
        "editable": true,
        "id": "5Gu1K1EXGV3l"
      },
      "source": [
        "bins = np.arange(1,8)\n",
        "rolls.hist(bins=bins, normed=False)"
      ],
      "execution_count": null,
      "outputs": []
    },
    {
      "cell_type": "code",
      "metadata": {
        "deletable": true,
        "editable": true,
        "id": "yXmcLovSGV3l"
      },
      "source": [
        "# Normalize this gives a distribution.  The probability of each side appearing.  1/6.\n",
        "rolls.hist(normed=True,bins=bins)"
      ],
      "execution_count": null,
      "outputs": []
    },
    {
      "cell_type": "markdown",
      "metadata": {
        "deletable": true,
        "editable": true,
        "id": "jJJPiu3kGV3m"
      },
      "source": [
        "## Computing on distributions\n",
        "\n",
        "While visualization is useful for humans in the data exploration process, everything you see you should be able to compute upon.  The analog of `Table.hist` that yields a table, rather than a chart is [`table.bin`](http://data8.org/datascience/_autosummary/datascience.tables.Table.bin.html#datascience.tables.Table.bin).  It returns a new table with a row for each bin.\n",
        "\n",
        "Here we also illustrate doing some computing on the distribution table:\n",
        "* A column of a table is accessed using the standard python *get* syntax: `<object> [ <key> ]`. This actually yields an object that is a [numpy array](https://docs.scipy.org/doc/numpy-dev/user/quickstart.html), but part of the beauty of tables is you don't have to worry about what that is. The beauty of numpy arrays is that you can work with them pretty much like values, i.e., you can scale them by a constant, add them together and things like that.\n",
        "* A column is inserted in the table using the standard python set syntax for objects `<object> [ <key> ] = <value>`. Note that this modifies the table, adding a column if it does not exist ro updating it if it does.  The transformations on tables are *functional*, they produce new tables.  Set treats a table like an object and modifies it."
      ]
    },
    {
      "cell_type": "code",
      "metadata": {
        "deletable": true,
        "editable": true,
        "id": "W3CzlRjLGV3m"
      },
      "source": [
        "roll_dist = rolls.bin(normed=True,bins=bins).take(range(6))\n",
        "roll_dist"
      ],
      "execution_count": null,
      "outputs": []
    },
    {
      "cell_type": "code",
      "metadata": {
        "deletable": true,
        "editable": true,
        "id": "wDXsgkuJGV3m"
      },
      "source": [
        "roll_dist['roll density']"
      ],
      "execution_count": null,
      "outputs": []
    },
    {
      "cell_type": "code",
      "metadata": {
        "deletable": true,
        "editable": true,
        "id": "HSYoa08bGV3m"
      },
      "source": [
        "roll_dist['Variation'] = (roll_dist['roll density'] - 1/6)/(1/6)\n",
        "roll_dist"
      ],
      "execution_count": null,
      "outputs": []
    },
    {
      "cell_type": "code",
      "metadata": {
        "deletable": true,
        "editable": true,
        "id": "LRWK-fPgGV3n"
      },
      "source": [
        "# What is the average value of a roll?\n",
        "sum(roll_dist['bin']*roll_dist['roll density'])"
      ],
      "execution_count": null,
      "outputs": []
    },
    {
      "cell_type": "code",
      "metadata": {
        "deletable": true,
        "editable": true,
        "id": "m8zcrtkAGV3n"
      },
      "source": [
        "np.mean(rolls['roll'])"
      ],
      "execution_count": null,
      "outputs": []
    },
    {
      "cell_type": "markdown",
      "metadata": {
        "deletable": true,
        "editable": true,
        "id": "E-tTHc_qGV3n"
      },
      "source": [
        "## Statistical thinking\n",
        "\n",
        "They say \"life is about rolling dice\".  The statistical perspective on the `rolls` table above would be captured by sampling many times from the die table.  We can capture than naturally in a computational abstraction that rolls a die `n` times."
      ]
    },
    {
      "cell_type": "code",
      "metadata": {
        "collapsed": true,
        "deletable": true,
        "editable": true,
        "id": "F5PTu7NzGV3n"
      },
      "source": [
        "# Life is about rolling lots of dice.\n",
        "# Simulate rolling n dice.\n",
        "def roll(n):\n",
        "    \"\"\"Roll n die.  Return a table of the rolls\"\"\"\n",
        "    return die.sample(n, with_replacement=True)"
      ],
      "execution_count": null,
      "outputs": []
    },
    {
      "cell_type": "code",
      "metadata": {
        "deletable": true,
        "editable": true,
        "id": "KBszmXl4GV3n"
      },
      "source": [
        "# try it out.  many times\n",
        "roll(10)"
      ],
      "execution_count": null,
      "outputs": []
    },
    {
      "cell_type": "markdown",
      "metadata": {
        "deletable": true,
        "editable": true,
        "id": "_TtRp--IGV3n"
      },
      "source": [
        "## Interactive visualization\n",
        "\n",
        "The central concept of computational thinking - *abstraction*. Here it is illustrated again by wrapping up the process of rolling many die and visualizing the resulting distribution into a function.\n",
        "\n",
        "Once we have it as a function, we can illustrate the central concept of inferential thinking - *the law of large numbers* - through interactive visualization.  When a dies is rolled only a few times, the resulting distribution may be very uneven.  But when it is rolled many many times, it is extremely rare for the result to be uneven."
      ]
    },
    {
      "cell_type": "code",
      "metadata": {
        "collapsed": true,
        "deletable": true,
        "editable": true,
        "id": "oB_WJ71AGV3o"
      },
      "source": [
        "def show_die_dist(n):\n",
        "    \"\"\"Roll a die n times and show the distribution of sides that appear.\"\"\"\n",
        "    roll(n).hist(bins=np.arange(1,8))"
      ],
      "execution_count": null,
      "outputs": []
    },
    {
      "cell_type": "code",
      "metadata": {
        "deletable": true,
        "editable": true,
        "id": "dA6OKtATGV3o"
      },
      "source": [
        "# We can now use the ipywidget we had included at the beginning.\n",
        "interact(show_die_dist, n=(10, 1000, 10))"
      ],
      "execution_count": null,
      "outputs": []
    },
    {
      "cell_type": "markdown",
      "metadata": {
        "deletable": true,
        "editable": true,
        "id": "KADxSDSvGV3o"
      },
      "source": [
        "## Likelihood\n",
        "\n",
        "If we really roll the dice several times in life, what might we expect the overall outcome to be like?\n",
        "\n",
        "We can extend our computational approach further by simulating the rolling of several die many many times. "
      ]
    },
    {
      "cell_type": "code",
      "metadata": {
        "collapsed": true,
        "deletable": true,
        "editable": true,
        "id": "0XJjvHY5GV3o"
      },
      "source": [
        "num_die = 10"
      ],
      "execution_count": null,
      "outputs": []
    },
    {
      "cell_type": "code",
      "metadata": {
        "collapsed": true,
        "deletable": true,
        "editable": true,
        "id": "mdechRHIGV3p"
      },
      "source": [
        "num_rolls = 100"
      ],
      "execution_count": null,
      "outputs": []
    },
    {
      "cell_type": "code",
      "metadata": {
        "deletable": true,
        "editable": true,
        "id": "bsdbBZHHGV3p"
      },
      "source": [
        "# Remember - referencing a column gives an array\n",
        "roll(num_die)['side']"
      ],
      "execution_count": null,
      "outputs": []
    },
    {
      "cell_type": "code",
      "metadata": {
        "deletable": true,
        "editable": true,
        "id": "FEUG-IGhGV3p"
      },
      "source": [
        "# Simulate rolling num_die dice num_rolls times and build a table of the result\n",
        "rolls = Table([\"die_\"+str(i) for i in range(num_die)]).with_rows([roll(num_die)['side'] for i in range(num_rolls)])\n",
        "rolls"
      ],
      "execution_count": null,
      "outputs": []
    },
    {
      "cell_type": "code",
      "metadata": {
        "deletable": true,
        "editable": true,
        "id": "YUSuukoDGV3p"
      },
      "source": [
        "# If we think of each row as a life experience, what is the life like?\n",
        "label = \"{}_dice\".format(num_die)\n",
        "sum_rolls = Table().with_column(label, [np.sum(roll(num_die)['side']) for i in range(num_rolls)])\n",
        "sum_rolls.hist(range=[10,6*num_die], normed=False)\n",
        "sum_rolls.stats()"
      ],
      "execution_count": null,
      "outputs": []
    },
    {
      "cell_type": "code",
      "metadata": {
        "deletable": true,
        "editable": true,
        "id": "kuf75hHuGV3p"
      },
      "source": [
        "# Or as a distribution\n",
        "sum_rolls.hist(range=[10,6*num_die],normed=True)"
      ],
      "execution_count": null,
      "outputs": []
    },
    {
      "cell_type": "code",
      "metadata": {
        "deletable": true,
        "editable": true,
        "id": "1LkR-kL7GV3p"
      },
      "source": [
        "# Or normalize by the number of die ...\n",
        "#\n",
        "Table().with_column(label, [np.sum(roll(num_die)['side'])/num_die for i in range(num_rolls)]).hist(normed=False)"
      ],
      "execution_count": null,
      "outputs": []
    },
    {
      "cell_type": "markdown",
      "metadata": {
        "deletable": true,
        "editable": true,
        "id": "Sl_BT_THGV3p"
      },
      "source": [
        "In probability theory, the central limit theorem (CLT) states that, given certain conditions, the arithmetic mean of a sufficiently large number of iterates of independent random variables, each with a well-defined expected value and well-defined variance, will be approximately normally distributed, regardless of the underlying distribution."
      ]
    },
    {
      "cell_type": "code",
      "metadata": {
        "collapsed": true,
        "deletable": true,
        "editable": true,
        "id": "jW_15nW4GV3q"
      },
      "source": [
        ""
      ],
      "execution_count": null,
      "outputs": []
    }
  ]
}