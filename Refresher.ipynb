{
  "nbformat": 4,
  "nbformat_minor": 0,
  "metadata": {
    "colab": {
      "name": "Untitled0.ipynb",
      "provenance": [],
      "mount_file_id": "1JtgfavNxj2Ajb5eJIXIGT0TPQG025wcL",
      "authorship_tag": "ABX9TyNfkwm8mz2cwJ/sc7LwGUrg",
      "include_colab_link": true
    },
    "kernelspec": {
      "name": "python3",
      "display_name": "Python 3"
    }
  },
  "cells": [
    {
      "cell_type": "markdown",
      "metadata": {
        "id": "view-in-github",
        "colab_type": "text"
      },
      "source": [
        "<a href=\"https://colab.research.google.com/github/Nasanut11/UCF_Programming/blob/master/Refresher.ipynb\" target=\"_parent\"><img src=\"https://colab.research.google.com/assets/colab-badge.svg\" alt=\"Open In Colab\"/></a>"
      ]
    },
    {
      "cell_type": "code",
      "metadata": {
        "id": "sYOoiatrV8aI"
      },
      "source": [
        "import random"
      ],
      "execution_count": 21,
      "outputs": []
    },
    {
      "cell_type": "code",
      "metadata": {
        "colab": {
          "base_uri": "https://localhost:8080/"
        },
        "id": "0FGmqVR-Qmd-",
        "outputId": "a9b5bcf7-6aef-40cf-8d43-50b4bb456ece"
      },
      "source": [
        "hello = \"Hello World\"\r\n",
        "print(hello)\r\n",
        "with open('text.txt', 'w') as file:\r\n",
        "  file.write(hello)"
      ],
      "execution_count": 24,
      "outputs": [
        {
          "output_type": "stream",
          "text": [
            "Hello World\n"
          ],
          "name": "stdout"
        }
      ]
    },
    {
      "cell_type": "code",
      "metadata": {
        "colab": {
          "base_uri": "https://localhost:8080/",
          "height": 35
        },
        "id": "QB0wlYBnN4ZV",
        "outputId": "02c7c20a-0024-427f-b3fb-e5137cef9faa"
      },
      "source": [
        "def createRandomSentence():\r\n",
        "  return random.choice(['google', 'facebook', 'twitter', 'snapchat'])\r\n",
        "def returnrandomNumber():\r\n",
        "  return random.randint(0,1000000)\r\n",
        "createRandomSentence()"
      ],
      "execution_count": 23,
      "outputs": [
        {
          "output_type": "execute_result",
          "data": {
            "application/vnd.google.colaboratory.intrinsic+json": {
              "type": "string"
            },
            "text/plain": [
              "'snapchat'"
            ]
          },
          "metadata": {
            "tags": []
          },
          "execution_count": 23
        }
      ]
    }
  ]
}