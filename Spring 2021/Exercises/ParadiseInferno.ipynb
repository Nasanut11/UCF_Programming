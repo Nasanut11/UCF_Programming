{
  "nbformat": 4,
  "nbformat_minor": 0,
  "metadata": {
    "colab": {
      "name": "ParadiseInferno.ipynb",
      "provenance": [],
      "authorship_tag": "ABX9TyPFV3X7lcrnwUHDHtC17RGi",
      "include_colab_link": true
    },
    "kernelspec": {
      "name": "python3",
      "display_name": "Python 3"
    }
  },
  "cells": [
    {
      "cell_type": "markdown",
      "metadata": {
        "id": "view-in-github",
        "colab_type": "text"
      },
      "source": [
        "<a href=\"https://colab.research.google.com/github/Nasanut11/UCF_Programming/blob/master/ParadiseInferno.ipynb\" target=\"_parent\"><img src=\"https://colab.research.google.com/assets/colab-badge.svg\" alt=\"Open In Colab\"/></a>"
      ]
    },
    {
      "cell_type": "code",
      "metadata": {
        "id": "Q6JX5BFXF3Kp"
      },
      "source": [
        "import random"
      ],
      "execution_count": 68,
      "outputs": []
    },
    {
      "cell_type": "code",
      "metadata": {
        "id": "zFICs0YKHlcN"
      },
      "source": [
        "!pip install markovify"
      ],
      "execution_count": null,
      "outputs": []
    },
    {
      "cell_type": "code",
      "metadata": {
        "id": "Eh_5HRsFoAVk"
      },
      "source": [
        "!pip install dominate"
      ],
      "execution_count": null,
      "outputs": []
    },
    {
      "cell_type": "code",
      "metadata": {
        "id": "4obCct13HqHJ"
      },
      "source": [
        "import markovify"
      ],
      "execution_count": 71,
      "outputs": []
    },
    {
      "cell_type": "code",
      "metadata": {
        "id": "OHN4L1bXob4E"
      },
      "source": [
        "from dominate.tags import *"
      ],
      "execution_count": 91,
      "outputs": []
    },
    {
      "cell_type": "code",
      "metadata": {
        "id": "1gCoSIuppzod"
      },
      "source": [
        "novel = ''"
      ],
      "execution_count": null,
      "outputs": []
    },
    {
      "cell_type": "code",
      "metadata": {
        "id": "73HdxKgldoaJ"
      },
      "source": [
        "with open('ParadiseLost.txt') as f:\r\n",
        "  text = f.read()"
      ],
      "execution_count": 72,
      "outputs": []
    },
    {
      "cell_type": "code",
      "metadata": {
        "id": "zLus47hceosK"
      },
      "source": [
        "with open('DivineComedy.txt') as f:\r\n",
        "  text2 = f.read()"
      ],
      "execution_count": 73,
      "outputs": []
    },
    {
      "cell_type": "code",
      "metadata": {
        "id": "VfFF1fMbfWxa"
      },
      "source": [
        "print(len(text.split(' ')))\r\n",
        "print(len(text2.split(' ')))\r\n",
        "\r\n",
        "text3 = \" \".join(text.split(' ')[0:121606])+text2"
      ],
      "execution_count": null,
      "outputs": []
    },
    {
      "cell_type": "code",
      "metadata": {
        "colab": {
          "base_uri": "https://localhost:8080/"
        },
        "id": "hxYiBZorH97U",
        "outputId": "1b95df91-15a2-494f-bf67-46502b096af1"
      },
      "source": [
        "text_model = markovify.Text(text3)\r\n",
        "\r\n",
        "for i in range(30):\r\n",
        "  print(text_model.make_sentence())"
      ],
      "execution_count": 97,
      "outputs": [
        {
          "output_type": "stream",
          "text": [
            "Let us make now Man in our proper motion we ascend Up to a single person except when desirous of security against the highest, am now constraind Into a Gulf shot under ground, till part Rose up a Fountain by the mention of Cianfa shows Dante that he was baptized a Christian hymn into Virgil's mouth.\n",
            "90 These were divided into two factions--the Whites, led by Corso Donati, were ordered into exile Arnolfo was already working on the Earth Though, in comparison of Heav'n, Angel serene, And freed from unmerited disgrace.\n",
            "And he was by the position in Vasari's pages of Boccaccio and elsewhere, is on record in which he wore Of many wayes to die For mans offence.\n",
            "He gives no journal of his career--when he was a foregone conclusion he reached by stages of his earlier works make any statements concerning tax treatment of usury.\n",
            "So spake our progress did not aim at the close of the pit.\n",
            "Below the other viewing, Soon found thir chief Leaders nam'd according to Dante, it is easy to guess.\n",
            "He came, and with clamors compasst round Of mine own brood, that on the crest they drew.\n",
            "Mean while in life.\n",
            "His one craving was for centuries used as a whole all that Vasari and the _Comedy_.\n",
            "Doubt not but taste.\n",
            "So scoffing in ambiguous words, he is restored, and the Orbes Of his great genius, than that committed against one's neighbour.\n",
            "This last simile prepares us for the family as a surname, afterwards changed to blood, because in thee is sweet.\n",
            "In 1326 Dante had for his moral portraiture what the mind may well be spoken by Paolo?\n",
            "Several poets attempted the riddle--among them the more rigorous the penalty endured in it.\n",
            "Dante's promise to refresh his fame refreshed in the dore he sat Of his Eternal Empire, but only Abdiel a Seraph, who in the art or engage in trade--sank, as the Heav'n his windows shut.\n",
            "All the lower Inferno, or only for six months.\n",
            "Redistribution is subject to his approval.\n",
            "Thither wing'd with speed When he who spends his life he stood With Atlantean shoulders fit to participate 390 All rational delight, wherein the brute Cannot be identified.\n",
            "Glad was the Emperor's that he might, even at the Empire, the Pope, as the author of the earth; narrowing to its credibility must surely have arisen from failure to observe Immutably his sovran will, the end walls of Doubting Castle.\n",
            "We must search its pages, and not praise Rather your dauntless vertue, whom the Virgin Majestie of Eve, 270 As one disarm'd, his anger saves To punish endless? wherefore cease we then?\n",
            "A treaty is on the good By thee communicated, and our beginning woe.\n",
            "It is now about to partake on one another.\n",
            "Beside him then there issued into sight Another shade, uncovered to the sciences, as they could when the Hohenstaufen Frederick II., grandson of that Fruit, which with his child Lavinia by his burden so oppressed But that Giotto was in 1294 elected Pope against his mortal foe, By me upheld, that he may have felt a craving for intellectual and congenial society, he found in nobles of Ghibeline tendency and all the flames are kindling at her lover's weakness.\n",
            "In solitude What happiness, who at his right hand; foretells the success of Satan in perverting mankind; clears his own offspring, is the end persisting, safe arrive.\n",
            "O pittie and shame, that they were easily cut in pieces by the Tree whose broad smooth Leaves together sowd, To gird thir waste, vain Covering if to hide himself from a flaming Mount, whose top may reach to Heav'n; And they who are doomed to the front and chest, He seemed Inferno greatly to be constantly recalling to mind his Cov'nant: Day and Night; which needs not Rhime.\n",
            "How hold we him in time, and makes him recollect himself and resolve to sit no longer hold us in her visage round those spots, unpurg'd Vapours not yet inflicted, as he bade, I to them had quitted all, At random yeilded up to the trademark license, especially commercial redistribution.\n",
            "Ulysses, on the deep and insoluble problem of how Ulysses ended his reply.\n",
            "With these came they, who from the chin all downward to the Commonwealth than the other.\n",
            "What thanks sufficient, or what change Absents thee, or what deny, and call up unbound In various shapes old Proteus from the nobles who sought access, but feard To interrupt, side-long he works his way.\n",
            "His muzzle who lay till then almost a monopoly of churchmen.\n"
          ],
          "name": "stdout"
        }
      ]
    },
    {
      "cell_type": "code",
      "metadata": {
        "id": "Iu4BeapEoslk"
      },
      "source": [
        ""
      ],
      "execution_count": null,
      "outputs": []
    }
  ]
}