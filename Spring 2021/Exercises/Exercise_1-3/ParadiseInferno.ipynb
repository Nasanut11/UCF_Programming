{
  "nbformat": 4,
  "nbformat_minor": 0,
  "metadata": {
    "colab": {
      "name": "ParadiseInferno.ipynb",
      "provenance": [],
      "authorship_tag": "ABX9TyOK9Vh9MItThmZacFo7ayYg",
      "include_colab_link": true
    },
    "kernelspec": {
      "name": "python3",
      "display_name": "Python 3"
    }
  },
  "cells": [
    {
      "cell_type": "markdown",
      "metadata": {
        "id": "view-in-github",
        "colab_type": "text"
      },
      "source": [
        "<a href=\"https://colab.research.google.com/github/Nasanut11/UCF_Programming/blob/master/ParadiseInferno.ipynb\" target=\"_parent\"><img src=\"https://colab.research.google.com/assets/colab-badge.svg\" alt=\"Open In Colab\"/></a>"
      ]
    },
    {
      "cell_type": "code",
      "metadata": {
        "id": "zFICs0YKHlcN"
      },
      "source": [
        "!pip install markovify\r\n",
        "!pip install dominate"
      ],
      "execution_count": null,
      "outputs": []
    },
    {
      "cell_type": "code",
      "metadata": {
        "id": "Q6JX5BFXF3Kp"
      },
      "source": [
        "import random\r\n",
        "import markovify\r\n",
        "import dominate"
      ],
      "execution_count": 35,
      "outputs": []
    },
    {
      "cell_type": "code",
      "metadata": {
        "id": "OHN4L1bXob4E"
      },
      "source": [
        "from dominate.tags import *"
      ],
      "execution_count": 40,
      "outputs": []
    },
    {
      "cell_type": "code",
      "metadata": {
        "id": "h0qQVg3Bs4Ek"
      },
      "source": [
        " novel = ''"
      ],
      "execution_count": 60,
      "outputs": []
    },
    {
      "cell_type": "code",
      "metadata": {
        "id": "73HdxKgldoaJ"
      },
      "source": [
        "with open('ParadiseLost.txt') as f:\r\n",
        "  text = f.read()\r\n",
        "\r\n",
        "with open('DivineComedy.txt') as f:\r\n",
        "  text2 = f.read()"
      ],
      "execution_count": 42,
      "outputs": []
    },
    {
      "cell_type": "code",
      "metadata": {
        "id": "VfFF1fMbfWxa"
      },
      "source": [
        "print(len(text.split(' ')))\r\n",
        "print(len(text2.split(' ')))\r\n",
        "\r\n",
        "text3 = \" \".join(text.split(' ')[0:121606])+text2"
      ],
      "execution_count": null,
      "outputs": []
    },
    {
      "cell_type": "code",
      "metadata": {
        "colab": {
          "base_uri": "https://localhost:8080/"
        },
        "id": "hxYiBZorH97U",
        "outputId": "a296a0d2-5e0d-434b-818f-a5070f9a56f0"
      },
      "source": [
        "text_model = markovify.Text(text3)\r\n",
        "\r\n",
        "for i in range(30):\r\n",
        "  novel += str(text_model.make_sentence())\r\n",
        "  novel += \"\\n\"\r\n",
        "\r\n",
        "print(novel)"
      ],
      "execution_count": 72,
      "outputs": [
        {
          "output_type": "stream",
          "text": [
            "How, in the following century.\n",
            "The herd was the fabulous Donation.\n",
            "Faire Angel, thy desire which tends to soften life made them now less willing to take you to the Ages rise, Or down from Heav'n, Enlightner of my exile.\n",
            "The calm is on the duskie houre Friendliest to sleep and silence, he resolv'd With all his eyes, His belly huge: claws from his radiant Seat he rose Of high collateral glorie: him Thrones and mighty Seraphim prostrate, That wish'd the Mountains now might be call'd The seed of Woman: Virgin Mother, Haile, High in Salvation and the conscience of her power Pisa was made responsible for the sake of securing a hold upon an unwilling vassal and of his place, they heard And from it of a circular belt.\n",
            "Satan was now practically vacant.\n",
            "All the lower Inferno.\n",
            "For many are the shades along with Dante Giotto painted Corso Donati had taken in a cloister, he painted on his knees, if I foreknew, Foreknowledge had no longer confin'd in Hell, not Realms expect: mean while murmuring waters fall 260 Down the steep 680 Of all those Myriads which we enjoy, from Heav'n to keep at Pisa a free way out of life when it was a bold, ambitious man, with a reference to a share Of hazard more, as he really was.\n",
            "Neerer his presence hid themselves among 100 The thickest Trees, both Man and Beast: when loe a wonder in Dante's view Cæsar in all walks of life.\n",
            "Guido died in 1264.\n",
            "The simile helps to bring Twilight upon the sight Pleas'd, out of Sion, thron'd Between the Cherubim; yea, often plac'd Within his Sanctuary it self workes no effect, But in the same free Will hath here 430 Varied his bounty so with new delights, As may not please Like this fair Fruit.\n",
            "Without much reason it has great value for the simoniacs.\n",
            "The spirits, driven by that Seed of the Priors.\n",
            "For me, be witness all the citizens suffered the last occasion in 1294.\n",
            "O Son, in whom the winged Warriour thus returnd: Uriel, no wonder if thy Son 760 Prove disobedient, and reprov'd, retort, Wherefore didst thou beget me?\n",
            "General Information About Project Gutenberg-tm works calculated using the Guelf noble.\n",
            "It is an aggravation of the Ghibeline property confiscated after the rule of not too much, by temperance taught In what he could endow a hospital in Florence.\n",
            "But all corrupt, both Mind and Will deprav'd, Not to destroy, Save what is in destroying, other joy To me so keene.\n",
            "So, on Dante's scheme, liberality is allied to and fro, they pave a broad Highway or Bridge over Chaos, according to one of the ice stood free to all.\n",
            "Thus while God spake, ambrosial fragrance fill'd All Heav'n, and heav'nlie-born, 860 Here in perpetual agonie and pain, With terrors and with forks the pieces steep Down in the world seemed to them as bribes ever did his native town to shake her in mind that the brown colour travels up over the Tent a Cloud descending snatch'd him thence Unseen amid the Bowre, And all her powers Irradiate, there plant eyes, all mist from thence distinct Each thing on Earth; and in event Know whether I be still the subject of them as he first finds a place 690 Chos'n by the Lateran Council of Florence and a day roaving the field, which e're it was as a trait in the following sentence he bids prepare to receive them.\n",
            "CANTO X. The Sixth Book.\n",
            "Like the city of unbelief.\n",
            "When it was the Spirit within Shall on the fall is so bad that even iron were too common among those of the plain is Lombardy.\n",
            "But already, as has been worked through the regions through which the poet was on the whole Race of Israel oft forsook Their living strength, and slew the Christians almost to prove was written in a balmie Cloud with winged Steeds Did, as thou proposest; so our Foe Shall scape his punishment the sinner can no other way, besides These painful passages, how we seek Peace and Warr?\n",
            "So we find him out of the _Comedy_ was already working on the contrary, is I believe to be one of the legs the small gentry, while he was the 30th of May.\n",
            "So said, he formd thee, Adam, I therefore came, nor art thou hee, Who first seduc'd them to be clearly inferred from the pitch.\n",
            "According to Homer, Ulysses had lost the child.\n",
            "But Dante elsewhere shows that he was a favourite authority with Dante, supplies him with swift ascent he up returnd, Into his neather Empire neighbouring round.\n",
            "Virgil knows why he lingers, but will not hide What thoughts in my power 820 Without Copartner? so to aspire Above his fellows, with Monarchal pride Conscious of highest Heav'n.\n",
            "We joyed; but with the Ocean: there Leviathan Hugest of living Carcasses design'd For death, like that of me then shall die: let this appease The doubt, since humane reach no further aim; And Seville lay behind me on the manner in which he would have nothing to show pity for Francesca and Ciacco.\n",
            "To make the first to glorify Beatrice as one reads, how vividly he describes how he came too soon.\n",
            "Manfred was trusted all the Fowles he seems to have repented in this contrasting strongly with the demand for rhymes necessarily becomes in some degree its servant.\n",
            "How, in the Deep: Messiah returns with triumph to Florence that, even when his feelings as much guilty of extortion while a hostile monarch was possessed of a pious Pope.\n",
            "Much hee the faultring measure felt; And forth to tame These disobedient; sore hath been reveal'd Not of my future course you teach.\n",
            "Besides the bitter resentment which he shows forth the Morn Such as he pass'd, And long he wanderd, till at last I comprehended it as far advanced in the same day as friend with friend Converse with Adam, in what form and posture coucht.\n",
            "Between Thee and the Cardinal Acquasparta, having failed in gaining the object which brought him hither Unlicenc't from his wit and native righteousness, And honour from about them, naked left To their defence who hold it: here perhaps Som advantagious act may be real, but that sin Will reign among them, as they were propos'd: Thou didst it view, And saw that it was discovered that they were less distinguished from the funeral on the face of things; in vain, Why our great expectation should be seduc't And flatter'd out of the wheel.\n",
            "Boccaccio in his exclusive devotion to the Tyrant thereby no excuse.\n",
            "He would even seem to cast Ominous conjecture on the _Salse_, the name of Frati Godenti which they stand drains the boiling pool.\n",
            "Adam, I was aware Were stone, and stone the rims on either hand to come within its walls.\n",
            "Hast thou not made a profession of popular liberty and general improvement in Florence.\n",
            "The heavens, as we shall die.\n",
            "The first half of the fall of the nature of his family, to reside in Florence for a time when, by the Cavalcanti and their voices grew cold.\n",
            "70 Nay curs'd be thou; since against his will if all be mine, Not Hers who brings it nightly to my lord I never from that Paradise you sing So never flaggs, but always keeps on Wing.\n",
            "The gates will then stand for the same year the Florentines as an instance of Beatrice is the symbol of Time; and the period covered by a fatal impulse, advance to hear the tread of nimble feet Hasting this way, and now from end to end his life so late to build His Temple right against the house of woe and sorrow.\n",
            "The utmost brink is the way I caught The secret trick, and used them with his shanks was making such lament.\n",
            "Shall Truth fail to be thus wasted sore?\n",
            "Here the Harpies symbolise shameful waste and havoc yonder World, which I should not Man, Retaining still Divine similitude In part, from such distempers foule Are ever cleer.\n",
            "He passes on his shoulders lay To set on the true Inferno, but only us'd For prospect, what well us'd they shall teach; for from that time lighted by an unglazed opening in the hearts of its neighbours.\n",
            "Yet least they faint At the source of authority equal to the _Convito_, iv.\n",
            "We joyed; but with shew of Love the food, 240 Love not the works of Faith.\n",
            "In 1300 it belonged partly to act By Eve, though all by mee adornd 280 With what more forcible we may be done Violence, or on the occasion of the enclosing mound; and thus, to one idea, and, as is due, With glorie attributed to the cleft.\n",
            "Hercules wore it and died in 1301.\n",
            "Him the most that a great noble, But this is but proportion meet, I of brute human, yee of human Race: what could not forbear aloud.\n",
            "They who neglect and future oblivion.\n",
            "For a time, the free distribution of electronic works in your notes his praise; Yee that in the last year of the years of age, her father, Guido, was Podesta in Florence.\n",
            "Nor shalt thou dispute With him or coldly lent him aid.\n",
            "Wailings on every side with the members of the Whites, had shown in Dante's pages.\n",
            "Thee I have striven to be able to propose himself to die For mans offence.\n",
            "If ever he trod again the pavement of his perswasive words, impregn'd With Reason, to her memory was the game that had fought on the death of Jesus.\n",
            "The speaker is Francesca, daughter of his wife he would get access to books that at least by their devilish guardians.\n",
            "But say, where grows the Tree, and finds it hard and technical a term to bestow on her.\n",
            "Being as I from tears withhold.\n",
            "To loose thee from this high pitch let us downward steer.\n",
            "Brunetto's chief works are the sins of others--pride and avarice.\n",
            "Me now my Master led.\n",
            "The three concentric rings composing the Seventh Circle continued--the Violent against Art--Usurers-- the descent on Geryon's back into the hands Of Mightiest.\n",
            "Florence had to arm for the furtherance of learning and commerce.\n",
            "Then it was a great noble, But this difference is perhaps to be found obedient, and retain Unalterably firm his love entire Whose progenie you are.\n",
            "Statue of Time-- the Infernal Circles, we may not taste nor touch; God so commanded, and left the people was broken for the Florentines rather than seeks forgiveness.\n",
            "By the time of Dante's time.\n",
            "And he was buried in the Ark hull on the Fruit to eate: 320 Of every Tree that in the nobles in the character of Buoso, the rogue professed his wish to follow than that it was a Guelf leader, and after no more then can now Thy sin and punishment, However insupportable, be all Devolv'd; though should I at your harmless innocence Melt, as I doe, Second Omnipotence, two dayes are past, Two dayes, as we complete the circuit grim; 40 Because the beast thou art bound; Where he abides, think there thy native soile.\n",
            "And when we were formd then saist thou?\n",
            "Isolated from her hath no dividual being: Reason in my Mothers lap? there I had of knowledge, and voutsaf't This friendly condescention to relate Things else by me in where secret things there be.\n",
            "130 Which else might work him danger or delay: And now advance we by a sort of devilish instinct sentences each sinner to his neck held on 70 While he with difficulty and labour hee; But hee the World Built on circumfluous Waters calme, in wide 270 Crystallin Ocean, and the other charges.\n",
            "It was after sunrise when they see Law can discover sin, but not to go, Going into such danger as thou saidst?\n",
            "The Florentines answered Dante's bitter invective and the guilt of Francesca's tale.\n",
            "Thus they in mutual accusation spent The fruitless hours, but neither self-condemning And of thir state by some accounts he was more of Heaven who opens the door.\n",
            "By more modern critics it has not seen the sun.\n",
            "To discover the aptness of the Emperor, so he hoped, and as hard escape.\n",
            "For months the streets of Florence.\n",
            "To either of war performed by Guido of Polenta, lord of these three places led.\n",
            "The Eighth Circle--Fourth Bolgia, where the sounds peculiar to each other, but with both wings veil thir eyes.\n",
            "When in order that he his Love accurst, since love or hatred prevailed.\n",
            "How the third best absent is condemn'd, Convict by flight, and speak of other prey, but that he may have been himself confused--a fiction which helps to bring Into this gloom of Tartarus profound, To sit and taste, till this irksom night; methought Close at mine ear one call'd me forth to thir Glory nam'd Thrones, Dominations, Princedoms, Vertues, Powers, Hear my Decree, which unrevok't shall stand.\n",
            "90 These were styled the magnates: they found, as it always had been, strongly Ghibeline.\n",
            "This Desart soile 270 Wants not her slowest pace for prayers or cries.\n",
            "On the other direction.\n",
            "The plan was laid wide enough to declare his castle dangerously near the bound My error fled, but I was always delighting myself in her Eye, In every Bush and Brake, where hap may finde Justification towards God, and drawing to his approval.\n",
            "To find her, or with her thy self; alas, Beare thine own Arbitrement it lies.\n",
            "Forsake me not let pass Occasion which now in hope of death is not known.\n",
            "He ask'd, but all the shades, Dante borrows freely from Virgil.\n",
            "He ended frowning, and his pitiful case, perhaps contrasted with the _Comedy_, he had two councils assigned to him; but these were no avowed Ghibelines in Florence.\n",
            "400 The Law of God appeas'd, Or serve they as a snail appears its horns to lose.\n",
            "Not onely to discerne Half what in sleep thou didst give eare To that first mov'd; And now Saint Peter at Heav'ns Wicket seems To wait them with their old song; and, reaching where we in one death were caught.\n",
            "To whom the highest To make some amends for his kindly eagerness to recover him, and with her haire; Two other precious drops that ready stood, Each in his Lombard campaigns; but they his gifts acknowledg'd none.\n",
            "O by what meanes he shall forgoe Father and Mother, and with frequent intercourse Thither will send his winged Messengers On errands of supernal Power.\n",
            "Here it may be found alike 350 Present, and of popular liberty and general improvement in Florence.\n",
            "He call'd so loud, that all the simoniacal Popes have to lose.\n",
            "We know that in the _Vita Nuova_ his chief friend.\n",
            "Benvenuto says he sends with the great fountain which daily quenched the thirst of thousands.\n",
            "The choice of the Furies upon the other's domain.\n",
            "Anon out of the murder of a check suffered in health during his lifetime; for among the great key creaking in the character of Buoso, the rogue professed his wish to follow thou art happie, owe to God; 520 That thou in whom my glory I behold In full harmonic number joind, thir songs Divide the night, when vapors fir'd Impress the Air, And all amid them stood Orcus and Ades, and the Aire of youth Hopeful and cheerful, in thy Divine Semblance, and in the face of one another.\n",
            "So standing, moving, or to accuse My other half: with that thy gentle looks, thy aid, I flie is Hell; my self and dearer half, The trouble of thy Maker faire, Thee all things faire, but fairest this Of all past example and future, 840 To Satan onely like both crime and punishment: henceforth No more Benacus--'tis as Mincio known, Which into Po does at Governo fall.\n",
            "A commentary of his religion, and far surpassed in intensity all we can bid his absence, till thy Song End, and dismiss thee ere the Tower Obstruct Heav'n Towrs, and in thee burn?\n",
            "The lower still I see not who partakes.\n",
            "The Eighth Circle--Fifth Bolgia, where are Flatterers plunged in them.\n",
            "She spake, and breath'd immortal love To mortal eare is dreadful; they beseech That Moses might report to them a wide arc, between the veteran scholar and grumbling exile.\n",
            "When this creation was? rememberst thou Thy making, while the North Of Norumbega, and the intent Which first I found me took.\n",
            "Then let us now, as in the government.\n",
            "The Angel leads him as if debating with himself whether he committed suicide; though he is among Florentines.\n",
            "370 Whom thus the filial Godhead answering spake.\n",
            "He scarce had said, though brief, when now more bold The Tempter, but with warme Prolific humour soft'ning all her Works gave signs of sweet remorse And pious awe, that feard to have had to arm for the truth of the tyrants, and alone, because of the cone is ten palms long--about six feet.\n",
            "But Clement was succeeded by another way my Master called, whence I besought With more than two yards off the hand of another.\n",
            "Then from the Spouse Of Tobits Son, and on the eves of Easter Sunday--that is, of the Woman I will bring thee thither soon.\n",
            "Though Dante was to bring Solstitial summers heat.\n",
            "Yet not of Bread?\n",
            "As good have grown there still bark'd and howl'd Within unseen.\n",
            "The Printer to the Eye, inviting to the sight What the other's domain.\n",
            "On the part of all religions.\n",
            "In other part Still luminous by his Heav'nly Guest.\n",
            "On fuller acquaintance his fellow-citizens liked the Frenchman as little as he, but this is all he can, and then another of her reputation as any husband could be.\n",
            "The person or corporate body.\n",
            "The only mention of Dante's life and pleasure seems To wait them with his Chariot wheeles to drag him bound Threatn'd, nor from thy side henceforth to stray, Wherere our days work lies, though now in his ear, 80 Until we reached the stream Dante passes easily, as being girt with the exiles.\n",
            "In the absence of a library of electronic works that could be cunning as well as brave.\n",
            "True is, mee also he hath sent propitious, some great Maker then, In goodness and paternal Love, his Zeale; Nor number, nor example with him all eare to heare thee tell His Generation, and the work begun, how soon will it be death? and do not agree to be covered by the Arbia run red with their life-blood; while it was provided that the passage of the stamp of Guido of Romena on the See of Rome, but it may be, behold the sun and stars?\n",
            "The End Of The Second Circle, which is the city; its walls, however, serving as bulwarks for all his works, Pleasant to know, Which leaves us naked thus, of Honour void, Of Innocence, of Faith, of Bliss.\n",
            "50 So much the stronger proves, they all, Or I alone first undertook To wing the Deep, because I am to no excess That reaches blame, but rather merits praise The more she will not offend.\n",
            "The only sign of the tyrants, and alone, because of the invention of details in support of the Ghibeline nobility had for patron a military prince, to whom Sin thus began.\n",
            "Thus Adam to his Mates thus in answer spake.\n",
            "Advise if this be to know, Can it be answered by the Serpent, or rather not, But keep the odds of Knowledge grew fast by, Knowledge of Good and Evil; Of good, how just? of evil, Hell, Thou and thy soft imbraces, hee Whose image thou art, to nobler end Holie and pure, conformitie divine.\n",
            "Thus they in mutual accusation spent The fruitless hours, but neither self-condemning And of this agreement before downloading, copying, displaying, performing, distributing or creating derivative works based on the line of march was to be obey'd, Yet Chains in Hell, but to create Is greater then created to destroy.\n",
            "The hint was approved of, and on the face was formed a nose, And lips absorbed the skin 110 Of one grew rough, the other's back Or stomach; and some unkindness meets, With sweet austeer composure thus reply'd.\n",
            "One of the Church, holds the secret of the _Popolo Vecchio_.\n",
            "O Hell! what doe mine eyes was spread abroad.\n",
            "Adam greatly satisfied and recomforted by these out of it all scarce find it credible.\n",
            "Till then no such companie as then thou Once fawn'd, and cring'd, and servilly ador'd Heav'ns awful Monarch? wherefore but in wisht houre 150 Of my revenge, first sought for thou above all living Creatures deare, Well hast thou instill'd Thy malice into thousands, once upright 270 And faithful, now prov'd false.\n",
            "Towards Damietta are his shoulders serve him no power can separate.\n",
            "Thus what thou hast rightly nam'd, but of a new scene, while when he thought this worth citing.\n",
            "And though at first though sweet, Bitter ere long so near we drew To where he voutsaf'd Presence Divine, and to his part; but other Powers as great Fell not, but have power and right thou shouldst hope, imperious, & with black Air Accompanied, with damps and dreadful gloom, Which to his doom is fixed in Ptolomæa.\n",
            "The simile helps to prove was written in French, as being in a member of the _Purgatorio_, and that swift Nocturnal and Diurnal rhomb suppos'd, Invisible else above all the West.\n",
            "Satan arrives at Pandemonium, in full to tell; And he, omniscient as concerning sin, Sees to what ye are, Great things resolv'd; which from the throat of every passage were too good to me slumbring, or inspires Easie my unpremeditated Verse: Since first this subject for a shroud, sweet nard and myrrh contain.\n",
            "This last simile prepares us for the tenderness of Francesca's name with Rimini is merely accidental.\n",
            "Some new grace of charity.\n",
            "So all ere day spring, under conscious Night Secret they finish'd, and in a College of twenty-four; and after no more now flotes, but seems on ground Fast on the wasteful Deep; with him at this Gate none pass The vigilance here plac't, but such as seduced on their own account in the following translation is not so, But mortal doom'd.\n",
            "The truth of the corruption of life and pleasure overlov'd.\n",
            "This account of his party as often as his secretary.\n",
            "It is not settled, nor which of all classes.\n",
            "So, on Dante's theory belonged to the city all around.\n",
            "I have gain'd From thir own mouths; all is not for a time, and this new World; at whose sight all the Hill, and made a complete circuit of each bank is necessarily deeper than the fact of their uncle is genuine, it has been passed Virgil is to be trusted, longing to be confiscated.\n",
            "Drift and bent of heart and memory Lives the paternal image good and evil; Forbids us then to the left hand turning, downward went Between the torments and the tone of their neighbours and rivals with longer pedigrees and shorter purses.\n",
            "All this dark Globe the Fiend Who came at first, was left no breathing-space for repentance and farewells.\n",
            "The wish is a consequence of their sins while in utmost Longitude, where Heav'n With Earth and the Capets in general.\n",
            "Farinata replies that like the robber barons of Germany, of the great Matilda than for any wrong he ever did his native town of a brother, and the Son..\n",
            "Farinata roughly declared that as long as things went moderately well with the motley civilisation of Manfred's court.\n",
            "But all these Garden Trees ye shall not return as bountie scorn'd.\n",
            "To whom the Gentiles Jesus call, His Name and Office bearing, who shall beleeve 440 Baptizing in the public domain eBooks.\n",
            "Father, thy word is all only in the Cause Of Truth, in word mightier then they Less hardie to endure? courageous Chief, 920 The first occasion of his party may be seen that the text of the author's mental and emotional development, but as regards historical details it is only guesswork.\n",
            "We know that very soon after when man fell, Strange alteration!\n",
            "He cannot well have been had he dwelt on the Bacchiglione; and he has not made a formal entrance was made that Æneas and no monopoly unless in the matter.\n",
            "The following list of books more or less height and steepness.\n",
            "The story of the great merchant Vieri dei Cerchi, and the sense of the closest friendship.\n",
            "The circuit of these fiery waves, There rest, if any eye beheld.\n",
            "Down three chins tears for ever lost from life; this act Shall bruise the Victors heel, Or theirs whom he was born in May, and if not always by the Pope, as the spectacle of a refund.\n",
            "Wherefore do I overlive, Why am I of brute human, yee of human sense exprest?\n",
            "63 we have not met the neather Flood, Which from his grave rebuke Severe in youthful beautie, added grace Invincible: abasht the Devil stood, And shook a dreadful Dart; what seem'd his head beholds 860 A dewie Cloud, and in the Imperial office.\n",
            "It was in the natural son of Mary second Eve, Saw Satan fall like Lightning down from his time is to be Gods, or seat 720 Thir Kings, when Aegypt with Assyria strove In wealth and political disabilities for having been directed by churchmen tends to economical progress.\n",
            "Such Pleasure took the golden Compasses, prepar'd In Gods Eternal store, to circumscribe This Universe, and all these at thy call, but found her wak't; And thus with words not sad she him receav'd.\n",
            "Before him reverent, and there may be well: but what if God have seen, And Death ensue? then I resolve, 830 Adam shall share with me in bliss imbosom'd sat the Son, Amidst as from the funeral on the brink of Inferno, where the Schismatics in Church and State are for ever being dismembered--Mahomet--Fra Dolcino-- Pier da Medicina, xxviii.\n",
            "He accompanied his father-in-law, Saint Louis, to Tunis, and died on his way to generate Mankind? this mischief had not the folly of Man pronounc't By Tongue of Brute, and human sense expos'd In narrow room Natures whole wealth, yea more, A Heaven on Earth, not rapt above the Firmament of Heav'n.\n",
            "Or was it not that wiser people could use them as he knows they are all on earth.\n",
            "It is difficult to understand how highly she rated it.\n",
            "Till then the Earth to yeild; unsavourie food perhaps To spiritual Natures; only this I never pass'd, have dream'd, If dream'd, not as a great extent it is still a liveless Rib.\n",
            "From Lucca, not powerful enough to secure Florence on the crest they drew.\n",
            "With him the great River to the end walls of the old _Cento Novelle_ Henry is described as defiling the feast of which the site alone can be discovered.\n",
            "Be it so, since hee Who now is enterd; yet no other such.\n",
            "They have no choice, for, traversing the Inferno as his Garden mould high rais'd Upon the sand a little I stretched forth my goodness, which is obtained by keeping to a stand.\n",
            "He had no influence on their own return in triumph.\n",
            "Why hast thou, Satan, broke the slumber deep That drowsed my senses, and myself I shook Like one whose anger gnaws him through and through.\n",
            "So gloz'd the Tempter, and his Throne rejoycing, yee in Heav'n, now plenteous, as thou hast combin'd; Much less that durst upon his own opinions as to his Father full exprest 720 Ineffably into his keeping.\n",
            "There are a few months; the only head of Roger, who, as a few weeks, he lost his father.\n",
            "The mode of publication he adopted was the common gloss Of Theologians, but with redoubl'd blow 370 Ariel and Arioc, and the Flours That open now thir way to pass, When first of women Eve thus spake.\n",
            "The bribe he offers is that of Judas by fifty years.\n",
            "A Florentine of that period would, in a physical medium and discontinue all use of the other.\n",
            "Of more he shall hear Infernal Thunder, and besought The Deep to the Tyrant thereby no excuse.\n",
            "Best Image of my exile.\n",
            "Dante dwells at length the man who joys while thriving well, When comes the most recondite allegory, and yet almost beloved for his offence, and undergoe his Punishment.\n",
            "He was son of Henry II. of Naples and so nearly twenty-four hours have been only severed at the distance of an Angel bright Betwixt the Centaure and the world with fame of it self Mixt with Tartarean Sulphur, and strange fire, His own works and their Train With monstrous shapes and sorceries abus'd Fanatic Egypt and her Seed; 180 Her Seed shall bruise The Serpents head; whereof to thee anon 150 Plainlier shall be right: fardest from him who made a mother.\n",
            "Thus Laws and Rites Establisht, such delight hath caus'd 400 The Law that is to cast Ominous conjecture on the quiet state of men Cut off, and for how Can hearts, not free, be tri'd whether they were induced to come up, Manfred sought to take the part of the Church itself, with its emblem and its retainers, recruited as has frequently been done, of the meaning they convey.\n",
            "The one likeness answers marvellously to the pitch will serve as a great extent it is needless to point out how the Bee Sits on the tenor of Mans woe Holds on the great result: Toward the right to prevent worse rape.\n",
            "In Apulia he did on his beloved master is pronounced as softly as it sometimes comes to leave the monastery of Malebolge.\n",
            "This was in the world another sun shone out.\n",
            "The dream is Dante's foreboding of what thou art, & formd the Pow'rs of Heav'n on this difficult search: Satan thir Sire up to spirit work, in bounds Proportiond to each meaning savour we apply, And Palate call judicious; I the frame of bones and flesh was in no wise leonine.\n",
            "Henceforth failure attended every effort they made provision of this fair Fruit.\n",
            "And Eve first to reveal to Adam or not, at last 660 Of middle Age one rising, eminent In wise deport, spake much of the Deep: The infernal storm is raging ceaselessly, Sweeping the shades are told who Virgil is, and to be with a special infamy.\n",
            "I saw when at his favourite residence of five months, the leading Guelfs of Tuscany, and especially at the end.\n",
            "How hold we him in the _Vita Nuova_ is fluent and graceful, in this glorious fashion that Dante was under Augustus that his maturer life was in imprisonment and exile for some time my head all might be adduced, to illustrate Dante's economy of the stamp of Guido of Romena on the East Of Eden planted; Eden stretchd her Line 210 From Auran Eastward to the close of his kinsman Charles II. of England.\n",
            "All of his knowledge of Good lost, and to thy speed add wings, 700 Least with a bundle of thorns is referred to so contemptuously is Andrea, of the three Mohammedans in this agreement for keeping the Project Gutenberg-tm mission of promoting free access to the unwiser Son Of Japhet brought by me, will curse My Head, Ill fare our Ancestor impure, For this he does not feign to be said to have fed: yet what compare?\n",
            "But between the wings Of two bright Cherubim, before him burn Seaven Lamps as in another sphere the Pope laid claim by an Italian bishop travelling in Palestine.\n",
            "Whatever may be real, but that he was actual ruler, even while his legitimate brother Conrad lived.\n",
            "Hee, after Eve seduc't, unminded slunk Into the wastful Deep; the monstrous sight Strook them with her nails her breast tore, and did smite Herself with open palms.\n",
            "Others besides Guido must have details of Dante's surroundings in which he was on the Victor Angels, and to die.\n",
            "Its middle feet about his paunch it drew, And with perpetual inrodes to Allarme, Though inaccessible, his fatal Dart Made to destroy: I fled, and at Altars, when the choice of garb conveys an obvious charge of cruelty and injustice of it, consisting of a great lady, rich in men of high degree that the terrible Frederick, after being warned by him in his description of the shades can only wish for them in this, the deepest room of bliss Brooks not the man to care for.\n",
            "Mean while the North Of Norumbega, and the guardian of the Universe--it is the true anniversary of the Middle Ages.\n",
            "On this the Love, is the key to Dante's scheme of government which had six feet, suddenly flew 50 At one extremity, the other side, 100 Arriving where a boiling fountain fell Into a wheel all three were intertwined.\n",
            "If caught, he was along with the Scribes and Pharisees who persecuted Jesus to the right, so as to concerne the mind through all proportions low and high Fled and pursu'd transverse the resonant fugue.\n",
            "The smaller tradesmen were without franchises, their interests were not directed to any patron.\n",
            "So should thy goodness and paternal Love, his Face Express, and of her death he greatly thinned the population of the rumour it seems as if it is worth.\n",
            "Here for some time my mind, For, haply, to the limits of diabolical power.\n",
            "To attaine The highth and depth of his sons, of whom they are set upside down.\n",
            "At the sad Sentence rigorously urg'd, For I behold the grieslie King; Yet thus, unmovd with fear, Hearing the words of such a foe Is rising, who intends to erect his Throne rejoycing, yee in Heav'n, our state Of splendid vassalage, but rather seek Our own begotten, breaking violent way Tore through my entrails, that with so much as when in active employment.\n",
            "The presence of Henry, as Corso Donati and the Orbes Of his Eternal Empire, but only in the conditions of pardon too humiliating.\n",
            "\n"
          ],
          "name": "stdout"
        }
      ]
    },
    {
      "cell_type": "code",
      "metadata": {
        "colab": {
          "base_uri": "https://localhost:8080/"
        },
        "id": "8AOy4zxMwVFe",
        "outputId": "b60f3e03-a074-4e06-9557-5e190cd14bb2"
      },
      "source": [
        "print(len(novel.split(' ')))"
      ],
      "execution_count": 73,
      "outputs": [
        {
          "output_type": "stream",
          "text": [
            "5479\n"
          ],
          "name": "stdout"
        }
      ]
    },
    {
      "cell_type": "code",
      "metadata": {
        "id": "Vt6Hi9sGnL0E"
      },
      "source": [
        "doc = dominate.document(title='Inferno in Paradise')\r\n",
        "\r\n",
        "with doc.head:\r\n",
        "    link(rel='stylesheet', href='style.css')\r\n",
        "    script(type='text/javascript', src='script.js')\r\n",
        "\r\n",
        "with doc:\r\n",
        "    with div(id='header').add(ol()):\r\n",
        "        for i in ['home', 'about', 'contact']:\r\n",
        "            li(a(i.title(), href='/%s.html' % i))\r\n",
        "\r\n",
        "    with div():\r\n",
        "        attr(cls='body')\r\n",
        "        p('Lorem ipsum..')\r\n",
        "\r\n",
        "print(doc)"
      ],
      "execution_count": null,
      "outputs": []
    }
  ]
}